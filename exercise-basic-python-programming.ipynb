{
 "cells": [
  {
   "cell_type": "markdown",
   "metadata": {},
   "source": [
    "# Most Frequently Ordered Items"
   ]
  },
  {
   "cell_type": "markdown",
   "metadata": {},
   "source": [
    "Description\n",
    "\n",
    "As a data analyst at PacFood, a food and beverage company, you are responsible for analyzing customer orders to determine the most frequently ordered items. Your goal is to process customer orders and create a summary of the top items ordered.\n",
    "\n",
    "Each order is represented as a string in a list, where each string contains the name of the ordered item. You need to gather this information and identify the most popular items based on the number of orders.\n",
    "\n",
    "Instructions:\n",
    "\n",
    "- You will receive a list of customer orders as input.\n",
    "\n",
    "- Use a loop (e.g., for loop) to iterate through the list of orders and count the occurrences of each item ordered.\n",
    "\n",
    "- Maintain a dictionary to count the occurrences of each item ordered.\n",
    "\n",
    "- After processing all orders, determine the item with the highest count and store the results in a dictionary called top_ordered_item, containing:\n",
    "\n",
    "    - The item name as the key.\n",
    "\n",
    "    - The number of times it was ordered as the value."
   ]
  },
  {
   "cell_type": "code",
   "execution_count": null,
   "metadata": {},
   "outputs": [],
   "source": [
    "# Expected Output\n",
    "\n",
    "# {'Pizza': 4}"
   ]
  },
  {
   "cell_type": "code",
   "execution_count": 5,
   "metadata": {},
   "outputs": [
    {
     "name": "stdout",
     "output_type": "stream",
     "text": [
      "{'Pizza': 4}\n"
     ]
    }
   ],
   "source": [
    "# Don't change code below\n",
    "orders = [\n",
    "    \"Pizza\",\n",
    "    \"Pasta\",\n",
    "    \"Salad\",\n",
    "    \"Pizza\",\n",
    "    \"Soda\",\n",
    "    \"Pizza\",\n",
    "    \"Fries\",\n",
    "    \"Salad\",\n",
    "    \"Pizza\"\n",
    "]\n",
    "\n",
    "# Your code here\n",
    "dictionary = {}\n",
    "for i in orders:\n",
    "    if i not in dictionary:\n",
    "        dictionary[i] = 1\n",
    "    elif i in dictionary:\n",
    "        dictionary[i] += 1\n",
    "\n",
    "most_ordered_item = max(dictionary, key=dictionary.get)\n",
    "most_ordered_value = dictionary[most_ordered_item]\n",
    "top_ordered_item = {most_ordered_item : most_ordered_value}\n",
    "print(top_ordered_item)"
   ]
  },
  {
   "cell_type": "markdown",
   "metadata": {},
   "source": [
    "# Delivery ETA Calculation"
   ]
  },
  {
   "cell_type": "markdown",
   "metadata": {},
   "source": [
    "Description\n",
    "\n",
    "You work as a data analyst at PacFood, a company focused on optimizing food delivery times. Accurate ETA (Estimated Time of Arrival) calculations are critical in managing customer expectations and satisfaction. In this task, your goal is to compute the ETA for multiple food deliveries based on the following time components:\n",
    "\n",
    "- The time it takes for the driver to reach the restaurant.\n",
    "\n",
    "- The time it takes for the restaurant to prepare the food.\n",
    "\n",
    "- The time it takes for the driver to deliver the food to the customer.\n",
    "\n",
    "Since the restaurant can start cooking while the driver is still en route, you need to adjust the total ETA to account for this overlap.\n",
    "\n",
    "Instructions:\n",
    "\n",
    "- A nested list will be given as input representing the times involved for each delivery:\n",
    "\n",
    "    - The first element represents the time it takes for the driver to reach the restaurant.\n",
    "\n",
    "    - The second element represents the time the restaurant takes to cook the food.\n",
    "\n",
    "    - The third element represents the time it takes for the driver to deliver the food to the customer.\n",
    "\n",
    "- Extract the time components from each nested list: driver-to-restaurant time, cooking time, and delivery time.\n",
    "\n",
    "- Calculate the ETA for each delivery:\n",
    "\n",
    "    - Add the driver’s time to reach the restaurant and the driver’s time to deliver the food to the customer.\n",
    "\n",
    "    - If the restaurant’s cooking time exceeds the driver’s time to reach the restaurant, add the remaining cooking time to the ETA.\n",
    "\n",
    "- Store the result for all deliveries in a list called estimated_eta."
   ]
  },
  {
   "cell_type": "code",
   "execution_count": 7,
   "metadata": {},
   "outputs": [],
   "source": [
    "# Expected Output\n",
    "\n",
    "# [35, 49, 43]"
   ]
  },
  {
   "cell_type": "code",
   "execution_count": 8,
   "metadata": {},
   "outputs": [
    {
     "name": "stdout",
     "output_type": "stream",
     "text": [
      "[35, 49, 43]\n"
     ]
    }
   ],
   "source": [
    "# Don't change code below\n",
    "delivery_times = [[7, 22, 13], [33, 24, 16], [11, 17, 26]]\n",
    "\n",
    "# Your code here\n",
    "estimated_eta = []\n",
    "for i in delivery_times:\n",
    "    driver_to_restaurant = i[0]\n",
    "    cooking_time = i[1]\n",
    "    delivery_time = i[2]\n",
    "    if cooking_time > driver_to_restaurant:\n",
    "        exceed_time = cooking_time - driver_to_restaurant\n",
    "        eta = driver_to_restaurant + exceed_time + delivery_time\n",
    "    else:\n",
    "        eta = driver_to_restaurant + delivery_time\n",
    "    \n",
    "    estimated_eta.append(eta)\n",
    "        \n",
    "print(estimated_eta)"
   ]
  },
  {
   "cell_type": "markdown",
   "metadata": {},
   "source": [
    "# Montly Churn Rate Calculation"
   ]
  },
  {
   "cell_type": "markdown",
   "metadata": {},
   "source": [
    "Description\n",
    "\n",
    "You work as a data analyst at PacFlix, a video streaming service with millions of customers. Understanding churn rate, the percentage of customers who stop using the service, is critical for maintaining customer retention.\n",
    "\n",
    "In this task, your goal is to calculate the monthly churn rate for PacFlix based on customer data.\n",
    "\n",
    "Instructions\n",
    "\n",
    "- A list of customer_in and customer_out will be provided for each month.\n",
    "\n",
    "    - initial_total_customer represents the number of total customers at the beginning of the period.\n",
    "\n",
    "    - customer_in represents the number of new customers who joined in that month.\n",
    "\n",
    "    - customer_out represents the number of customers who left the service (churned) during that month.\n",
    "\n",
    "- Calculate the churn rate for each month using the formula:\n",
    "\n",
    "$$\n",
    "Churn Rate = \\frac{C_{Left}}{C_{Start} + C_{New}}\n",
    "$$\n",
    "\n",
    "Where:\n",
    "\n",
    "$C_{Left}$ : Number of customers who left\n",
    "\n",
    "$C_{Start}$ : Total customers at the start of the period\n",
    "\n",
    "$C_{New}$ : New customers acquired during the period\n",
    "\n",
    "- Update the total customer count at the beginning of each period by including new customers and excluding churned customers from the previous period.\n",
    "\n",
    "- Store the churn rate for each month in a list called churn_rates. Round each churn rate to 4 decimal places before storing it."
   ]
  },
  {
   "cell_type": "code",
   "execution_count": null,
   "metadata": {},
   "outputs": [],
   "source": [
    "# Expected Output\n",
    "\n",
    "# [0.0218, 0.0077, 0.0187, 0.0124, 0.0141]"
   ]
  },
  {
   "cell_type": "code",
   "execution_count": 9,
   "metadata": {},
   "outputs": [
    {
     "name": "stdout",
     "output_type": "stream",
     "text": [
      "[0.0218, 0.0077, 0.0187, 0.0124, 0.0141]\n"
     ]
    }
   ],
   "source": [
    "# Don't change code below\n",
    "customer_in = [100, 350, 300, 500, 320]\n",
    "customer_out = [24, 11, 32, 27, 35]\n",
    "initial_total_customer = 1000\n",
    "\n",
    "# Your code here\n",
    "churn_rates = []\n",
    "c_start = initial_total_customer\n",
    "for i in range(len(customer_in)):\n",
    "    c_new = customer_in[i]\n",
    "    c_left = customer_out[i]\n",
    "    churn_rate = round(c_left / (c_start + c_new), 4)\n",
    "    churn_rates.append(churn_rate)\n",
    "    c_start += c_new - c_left\n",
    "    \n",
    "print(churn_rates)"
   ]
  },
  {
   "cell_type": "markdown",
   "metadata": {},
   "source": [
    "# Loan Default Prediction Model Evaluation"
   ]
  },
  {
   "cell_type": "markdown",
   "metadata": {},
   "source": [
    "Description\n",
    "\n",
    "You work as a data scientist at PacHome, a company that offers loan products to millions of customers. One of your key responsibilities is to reduce the risk of approving loans to customers who are likely to default. To achieve this, several predictive models are built to estimate the likelihood of a customer defaulting on their loan. Your task is to evaluate each model using the recall metric and identify the best-performing model.\n",
    "\n",
    "The recall metric is particularly important in this context because it measures how well the model identifies all actual loan defaulters. A high recall score means the model minimizes the risk of approving loans to high-risk customers.\n",
    "\n",
    "Instructions\n",
    "\n",
    "- A dictionary will be provided as input containing the following keys:\n",
    "\n",
    "    - 'True Label': A list representing whether a customer defaulted or not.\n",
    "\n",
    "    - 'Model 1': A list representing the predicted labels for Model 1.\n",
    "\n",
    "    - 'Model 2': A list representing the predicted labels for Model 2.\n",
    "\n",
    "- Each list contains binary values:\n",
    "\n",
    "    - 1 represents a customer who defaulted.\n",
    "\n",
    "    - 0 represents a customer who did not default.\n",
    "\n",
    "- For each model, calculate the recall using the formula:\n",
    "\n",
    "    Recall = ( True Positives / (True Positives + False Negatives) )\n",
    " \n",
    "    - True Positives (TP): The number of customers correctly predicted to default.\n",
    "\n",
    "    - False Negatives (FN): The number of customers who defaulted but were predicted not to default.\n",
    "\n",
    "- Store the recall scores for each model in a dictionary called recall_scores, where the keys are \"Model <number>\" and the values are the calculated recall scores.\n",
    "\n",
    "- Identify the best model by selecting the one with the highest recall score and store the result in best_model.\n",
    "\n",
    "- Print the best model in the format:\n",
    "\n",
    "    Best model {best_model} with recall score: {recall_score[best_model]}"
   ]
  },
  {
   "cell_type": "code",
   "execution_count": null,
   "metadata": {},
   "outputs": [],
   "source": [
    "# Expected Output:\n",
    "\n",
    "# Best model Model 2 with recall score: 0.8"
   ]
  },
  {
   "cell_type": "code",
   "execution_count": 10,
   "metadata": {},
   "outputs": [
    {
     "name": "stdout",
     "output_type": "stream",
     "text": [
      "Best model Model 2 with recall score: 0.89\n"
     ]
    }
   ],
   "source": [
    "# Don't change code below\n",
    "input_data = {\n",
    "    'True Label': [1, 0, 1, 1, 0, 1, 0, 1, 0, 0],\n",
    "    'Model 1': [1, 0, 0, 0, 0, 1, 0, 1, 0, 1],\n",
    "    'Model 2': [1, 1, 1, 1, 0, 1, 0, 0, 0, 0]\n",
    "}\n",
    "\n",
    "# Your code here\n",
    "recall_scores = {}\n",
    "for model in ['Model 1','Model 2']:\n",
    "    true_positives = 0\n",
    "    false_negatives = 0\n",
    "    for true_label, predicted in zip(input_data['True Label'], input_data[model]):\n",
    "        if predicted == true_label:\n",
    "            true_positives += 1\n",
    "        elif predicted < true_label:\n",
    "            false_negatives += 1\n",
    "            \n",
    "        recall = true_positives / (true_positives + false_negatives)\n",
    "        recall_scores[model] = round(recall, 2)\n",
    "       \n",
    "best_model = max(recall_scores, key=recall_scores.get)\n",
    "print(f'Best model {best_model} with recall score: {recall_scores[best_model]}')"
   ]
  },
  {
   "cell_type": "markdown",
   "metadata": {},
   "source": [
    "# Stopwords Removal from News Articles"
   ]
  },
  {
   "cell_type": "markdown",
   "metadata": {},
   "source": [
    "Description\n",
    "\n",
    "As a data engineer at PacMedia, you are responsible for processing a list of digital news articles in Indonesian by removing stopwords to prepare the data for further analysis. Your goal is to create a clean list of articles without these common words that do not contribute much meaning.\n",
    "\n",
    "Instructions\n",
    "\n",
    "- You will receive a list of strings, where each string represents a news article in Indonesian.\n",
    "\n",
    "- You will also be given a list of stopwords that need to be removed from the articles.\n",
    "\n",
    "- Use a loop to iterate through each article in the list.\n",
    "\n",
    "- For each article, split the text into individual words, check each word against the stopwords list, and create a new list containing only the words that are not stopwords.\n",
    "\n",
    "- After processing all articles, join the remaining words back into a single string for each article.\n",
    "\n",
    "- Store the final cleaned list of articles in a variable called cleaned_articles."
   ]
  },
  {
   "cell_type": "code",
   "execution_count": 3,
   "metadata": {},
   "outputs": [],
   "source": [
    "# Expected Output\n",
    "\n",
    "# ['Perubahan iklim mempengaruhi pola cuaca secara global.', \n",
    "# 'Smartphone baru memiliki teknologi desain canggih.', \n",
    "# 'Para ilmuwan menemukan spesies baru hutan hujan Amazon.']"
   ]
  },
  {
   "cell_type": "code",
   "execution_count": 4,
   "metadata": {},
   "outputs": [
    {
     "name": "stdout",
     "output_type": "stream",
     "text": [
      "['Perubahan iklim mempengaruhi pola cuaca secara global.', 'Smartphone baru memiliki teknologi desain canggih.', 'Para ilmuwan menemukan spesies baru hutan hujan Amazon.']\n"
     ]
    }
   ],
   "source": [
    "# Don't change code below\n",
    "articles = [\n",
    "    \"Perubahan iklim itu mempengaruhi pola cuaca secara global.\",\n",
    "    \"Smartphone baru memiliki sebuah teknologi dan desain canggih.\",\n",
    "    \"Para ilmuwan menemukan spesies baru di hutan hujan Amazon.\"\n",
    "]\n",
    "\n",
    "stopwords = [\n",
    "    \"yang\", \"adalah\", \"dari\", \"di\", \"ke\", \"dan\", \"dapat\", \"itu\", \"sebuah\"\n",
    "]\n",
    "\n",
    "# Your code here\n",
    "cleaned_articles = []\n",
    "for i in articles:\n",
    "    articles_split = i.split()\n",
    "    articles_list = []\n",
    "    for j in articles_split:\n",
    "        if j not in stopwords:\n",
    "            articles_list.append(j)\n",
    "        \n",
    "    article = \" \".join(articles_list)\n",
    "    cleaned_articles.append(article)\n",
    "            \n",
    "print(cleaned_articles)"
   ]
  },
  {
   "cell_type": "markdown",
   "metadata": {},
   "source": [
    "# E-commerce Data Imputation"
   ]
  },
  {
   "cell_type": "markdown",
   "metadata": {},
   "source": [
    "Description\n",
    "\n",
    "As a data engineer at PacCart, an e-commerce platform specializing in online shopping, you are responsible for ensuring the quality and integrity of the product data. One of the common challenges in managing product information is handling missing values, which can hinder the analysis of product performance. Your goal is to perform imputation on a given dataset containing massing values to create a complete dataset for analysis.\n",
    "\n",
    "Instructions\n",
    "\n",
    "- You will receive a list of dictionaries representing the product dataset, where each dictionary contains the following fields:\n",
    "\n",
    "    - product_id: A unique identifier for each product.\n",
    "    \n",
    "    - price: The price of the product (can be None indicating a missing value).\n",
    "    \n",
    "    - stock: The number of items in stock (can also be None indicating a missing value). This should be an integer.\n",
    "\n",
    "    - rating: A numerical rating of the product (should never be missing).\n",
    "\n",
    "- Use the following imputation strategy:\n",
    "\n",
    "    - If price is missing, replace it with the average of the non-missing values of price.\n",
    "\n",
    "    - If stock is missing, replace it with the average of the non-missing values of stock.\n",
    "\n",
    "    - rating should remain unchanged since it should never be missing.\n",
    "\n",
    "- Calculate the average of price (float with 2 decimal places) and average of stock (integer), while ignoring missing values.\n",
    "\n",
    "- Use a loop to iterate through each product in the dataset:\n",
    "\n",
    "    - Check for missing values and apply the appropriate imputation.\n",
    "\n",
    "- Store the clean dataset in a list of dictionaries called completed_data."
   ]
  },
  {
   "cell_type": "code",
   "execution_count": 2,
   "metadata": {},
   "outputs": [],
   "source": [
    "# Expected Output\n",
    "\n",
    "# [{'product_id': 105, 'price': 43.99, 'stock': 225, 'rating': 4.5}, \n",
    "# {'product_id': 106, 'price': 28.16, 'stock': 225, 'rating': 4.2}, \n",
    "# {'product_id': 107, 'price': 28.16, 'stock': 150, 'rating': 4.7}, \n",
    "# {'product_id': 108, 'price': 12.34, 'stock': 300, 'rating': 4.4}]"
   ]
  },
  {
   "cell_type": "code",
   "execution_count": 1,
   "metadata": {},
   "outputs": [
    {
     "name": "stdout",
     "output_type": "stream",
     "text": [
      "[{'product_id': 105, 'price': 43.99, 'stock': 225, 'rating': 4.5}, {'product_id': 106, 'price': 28.16, 'stock': 225, 'rating': 4.2}, {'product_id': 107, 'price': 28.16, 'stock': 150, 'rating': 4.7}, {'product_id': 108, 'price': 12.34, 'stock': 300, 'rating': 4.4}]\n"
     ]
    }
   ],
   "source": [
    "# Don't change code below\n",
    "data = [\n",
    "    {'product_id': 105, 'price': 43.99, 'stock': None, 'rating': 4.5},\n",
    "    {'product_id': 106, 'price': None, 'stock': None, 'rating': 4.2},\n",
    "    {'product_id': 107, 'price': None, 'stock': 150, 'rating': 4.7},\n",
    "    {'product_id': 108, 'price': 12.34, 'stock': 300, 'rating': 4.4}\n",
    "]\n",
    "\n",
    "# Your code here\n",
    "prices = 0 \n",
    "stocks = 0 \n",
    "for product in data:\n",
    "    prod = 1\n",
    "    if product['price'] != None:\n",
    "        prod += 1\n",
    "        prices += product['price']\n",
    "        average_prices = prices / prod\n",
    "    prods = 1\n",
    "    if product['stock'] != None:\n",
    "        prods += 1\n",
    "        stocks += product['stock']\n",
    "        average_stocks = stocks / prods\n",
    "\n",
    "completed_data = []\n",
    "for product in data:\n",
    "    if product['price'] == None:\n",
    "        product['price'] = round(average_prices, 2)\n",
    "        \n",
    "    if product['stock'] == None:\n",
    "        product['stock'] = int(average_stocks)\n",
    "        \n",
    "    completed_data.append(product)\n",
    "    \n",
    "print(completed_data)"
   ]
  },
  {
   "cell_type": "markdown",
   "metadata": {},
   "source": [
    "# Price Change Analysis"
   ]
  },
  {
   "cell_type": "markdown",
   "metadata": {},
   "source": [
    "Task Description\n",
    "\n",
    "You work as a data scientist at PacFin, a company specializing in financial analytics. Your task is to analyze stock prices to identify days with significant price changes, which could indicate market movements. Significant price changes are defined as daily price changes that are greater than a specified percentage.\n",
    "\n",
    "You need to create a function that calculates the percentage change in stock prices from one day to the next, then identifies the days where the price change exceeds a specified threshold.\n",
    "\n",
    "Instructions\n",
    "\n",
    "- Define a function identify_price_changes that takes two inputs:\n",
    "\n",
    "    - A list of stock prices (numerical values representing daily closing prices).\n",
    "\n",
    "    - A percentage threshold (a numerical value that represents the threshold for identifying significant price changes).\n",
    "\n",
    "- For each day in the list (starting from the second day), calculate the percentage change from the previous day's closing price using the formula:\n",
    "\n",
    "    Percentage Change = ( (Current Price − Previous Price) / Previous Price ) × 100\n",
    "\n",
    "- Identify days where the absolute percentage change exceeds the specified threshold.\n",
    "\n",
    "- Return a list of strings representing the days where significant price changes occurred in the format \"Day X\", where X is the day number (starting from Day 2 for the first change)."
   ]
  },
  {
   "cell_type": "code",
   "execution_count": 1,
   "metadata": {},
   "outputs": [],
   "source": [
    "# Expected Output:\n",
    "\n",
    "# ['Day 3', 'Day 4']"
   ]
  },
  {
   "cell_type": "code",
   "execution_count": 4,
   "metadata": {},
   "outputs": [
    {
     "name": "stdout",
     "output_type": "stream",
     "text": [
      "['Day 3', 'Day 4']\n"
     ]
    }
   ],
   "source": [
    "# Your code here\n",
    "def identify_price_changes(stock_prices, threshold):\n",
    "    day_changes = []\n",
    "    for i in range(1, len(stock_prices)):\n",
    "        current_price = stock_prices[i]\n",
    "        previous_price = stock_prices[i-1]\n",
    "        percentage_change = ((current_price - previous_price) / previous_price) * 100\n",
    "        if abs(percentage_change) > threshold:\n",
    "            day_changes.append(f'Day {i+1}')\n",
    "        \n",
    "    return day_changes\n",
    "    \n",
    "stock_prices = [100, 105, 98, 120, 115, 112]\n",
    "threshold = 5 \n",
    "result = identify_price_changes(stock_prices, threshold)\n",
    "print(result)"
   ]
  },
  {
   "cell_type": "markdown",
   "metadata": {},
   "source": [
    "# Search Ranking"
   ]
  },
  {
   "cell_type": "markdown",
   "metadata": {},
   "source": [
    "Description\n",
    "\n",
    "You are a data analyst at PacNews, where you are tasked with analyzing a list of articles to identify the most popular words based on their frequency. Your goal is to create a function that takes a list of articles (as a single string) and an intege N as input and returns the top most frequently occurring words along with their counts. If multiple words have the same frequency, they should be sorted lexicographically in descending order.\n",
    "\n",
    "Instructions\n",
    "\n",
    "- Define a function top_popular_words that accepts two parameters:\n",
    "\n",
    "    - A string article, which contains the text of the article.\n",
    "\n",
    "    - An integer N (default value of 3) representing the number of top words to return.\n",
    "\n",
    "- Process the input to:\n",
    "\n",
    "    - Convert the article text to lowercase to ensure case insensitivity.\n",
    "\n",
    "    - Split the article into individual words, removing any punctuation (. , ! ? ; : \" - _).\n",
    "\n",
    "- Count the frequency of each word in the article.\n",
    "\n",
    "- Sort the words first by their frequency in descending order, and then lexicographically in descending order if frequencies are the same.\n",
    "\n",
    "- Return a list of tuples, where each tuple contains the word and its frequency count, for the top N words based on the sorting criteria."
   ]
  },
  {
   "cell_type": "code",
   "execution_count": null,
   "metadata": {},
   "outputs": [],
   "source": [
    "# Expected Output:\n",
    "\n",
    "# [('data', 4), ('is', 2), ('decision', 1)]"
   ]
  },
  {
   "cell_type": "code",
   "execution_count": 6,
   "metadata": {},
   "outputs": [
    {
     "name": "stdout",
     "output_type": "stream",
     "text": [
      "[('data', 4), ('is', 2), ('decision', 1)]\n"
     ]
    }
   ],
   "source": [
    "# Your code here\n",
    "def top_popular_words(article, N=3):\n",
    "    article_lower = article.lower()\n",
    "    article_replace_1 = article_lower.replace('.', '')\n",
    "    article_replace_2 = article_replace_1.replace(',', '')\n",
    "    article_replace_3 = article_replace_2.replace('-', ' ')\n",
    "    article_split = article_replace_3.split()\n",
    "    dictionary = {}\n",
    "    for word in article_split:\n",
    "        if word not in dictionary:\n",
    "            dictionary[word] = 1 \n",
    "        else: \n",
    "            dictionary[word] += 1 \n",
    "            \n",
    "    dict_items = list(dictionary.items())\n",
    "    dict_items = sorted(dict_items, key=lambda word: (-word[1], word[0]))\n",
    "    \n",
    "    return dict_items[:N]\n",
    "    \n",
    "article = 'In data science, data is the new oil. Data is essential for data-driven decision-making.'\n",
    "result = top_popular_words(article, 3)\n",
    "print(result)"
   ]
  },
  {
   "cell_type": "markdown",
   "metadata": {},
   "source": [
    "# Clean Email Addresses"
   ]
  },
  {
   "cell_type": "markdown",
   "metadata": {},
   "source": [
    "Description\n",
    "\n",
    "As a data analyst at PacMail, an email marketing company, you are responsible for ensuring the accuracy and validity of customer email addresses. Some email addresses in your dataset have extra spaces, invalid formats, or incorrect case sensitivity. Your task is to create a function that cleans these email addresses by removing unnecessary whitespace and converting them to lowercase.\n",
    "\n",
    "Instructions\n",
    "\n",
    "- Define a function clean_email_addresses that takes a list of email addresses as input.\n",
    "\n",
    "- For each email in the list:\n",
    "\n",
    "    - Remove any leading or trailing whitespace.\n",
    "\n",
    "    - Convert the email address to lowercase.\n",
    "\n",
    "    - Check if the email contains an \"@\" symbol to ensure it is valid.\n",
    "\n",
    "    - Ensure that the domain part (after the \"@\") follows a valid format:\n",
    "\n",
    "    - The domain name must contain only letters (domains with numbers are invalid).\n",
    "\n",
    "    - The top-level domain (TLD) should be a valid one like .com, .org, or .net.\n",
    "    \n",
    "- Return a list of cleaned email addresses, sorted in ascending order."
   ]
  },
  {
   "cell_type": "code",
   "execution_count": null,
   "metadata": {},
   "outputs": [],
   "source": [
    "# Expected Output:\n",
    "\n",
    "# ['alice@goalmail.com', 'bob@polyson.com', 'frizt@live.org']"
   ]
  },
  {
   "cell_type": "code",
   "execution_count": null,
   "metadata": {},
   "outputs": [
    {
     "name": "stdout",
     "output_type": "stream",
     "text": [
      "['alice@goalmail.com', 'bob@polyson.com', 'frizt@live.org']\n"
     ]
    }
   ],
   "source": [
    "# Your code here\n",
    "def clean_email_addresses(emails):\n",
    "    list_of_emails = []\n",
    "    tlds = ['.com', '.org', '.net']\n",
    "\n",
    "    for email in emails:\n",
    "        email = email.strip().lower() \n",
    "        first_at = email.find('@')\n",
    "        second_at = email.find('@', first_at + 1)\n",
    "        \n",
    "        if second_at != -1:\n",
    "            continue\n",
    "\n",
    "        if first_at == -1 or first_at == 0 or first_at == len(email) - 1:\n",
    "            continue\n",
    "\n",
    "        if '.' not in email[first_at:]:\n",
    "            continue\n",
    "\n",
    "        domain_part = email[first_at + 1:]\n",
    "        if domain_part[0].isdigit():\n",
    "            continue\n",
    "\n",
    "        valid_tld = False\n",
    "        for tld in tlds:\n",
    "            if email.endswith(tld):\n",
    "                valid_tld = True\n",
    "                break\n",
    "\n",
    "        if not valid_tld:\n",
    "            continue\n",
    "\n",
    "        list_of_emails.append(email)\n",
    "\n",
    "    return list_of_emails\n",
    "\n",
    "\n",
    "emails = [\n",
    "    '   Alice@goalmail.com      ',\n",
    "    'bob@polyson.com',\n",
    "    '  CHARLIE@mail',\n",
    "    'dave@@goalmail.net',\n",
    "    '  erliza@3dimension.com ',\n",
    "    'frizt@live.org  ',\n",
    "    'george@goalmail.connect'\n",
    "]\n",
    "result = clean_email_addresses(emails)\n",
    "print(result)\n"
   ]
  },
  {
   "cell_type": "markdown",
   "metadata": {},
   "source": [
    "# E-Tilang Vehicle Plate "
   ]
  },
  {
   "cell_type": "markdown",
   "metadata": {},
   "source": [
    "Description\n",
    "\n",
    "You work in the IT division of the police department and need to develop an e-tilang (electronic traffic ticketing) program. This program will analyze vehicle license plate numbers to determine whether the last digit of each plate's serial number is odd or even. This classification will assist in managing traffic regulations.\n",
    "\n",
    "Your task is to create a function named plate_extract that accepts a list of vehicle license plate numbers and returns a list of results indicating if each plate is valid and if its serial number is odd or even.\n",
    "\n",
    "Instructions\n",
    "\n",
    "- Define a function plate_extract that takes a list of vehicle license plate numbers as input.\n",
    "\n",
    "- Return an empty list if the input list is empty.\n",
    "\n",
    "- For each license plate:\n",
    "\n",
    "    - Validate the format:\n",
    "\n",
    "        - Start with 1 or 2 letters (region code).\n",
    "\n",
    "        - Followed by exactly 4 digits (serial number).\n",
    "\n",
    "        - End with whitespace and 1 or 2 letters (letter combination).\n",
    "\n",
    "    - If valid, extract the last digit of the serial number:\n",
    "\n",
    "        - Return \"Even\" if it’s even (0, 2, 4, 6, 8).\n",
    "\n",
    "        - Return \"Odd\" if it’s odd (1, 3, 5, 7, 9).\n",
    "\n",
    "    - If invalid, return \"Invalid Plate\".\n",
    "    \n",
    "        - Return the results list for each plate."
   ]
  },
  {
   "cell_type": "code",
   "execution_count": null,
   "metadata": {},
   "outputs": [],
   "source": [
    "# Expected Output - 1:\n",
    "# ['Even', 'Invalid Plate', 'Invalid Plate', 'Odd']\n",
    "\n",
    "# Expected Output - 2:\n",
    "# ['Even', 'Even', 'Even', 'Even']"
   ]
  },
  {
   "cell_type": "code",
   "execution_count": null,
   "metadata": {},
   "outputs": [
    {
     "name": "stdout",
     "output_type": "stream",
     "text": [
      "['Even', 'Invalid Plate', 'Invalid Plate', 'Odd']\n"
     ]
    }
   ],
   "source": [
    "# Your code here\n",
    "def plate_extract(plate_numbers):\n",
    "    output = []\n",
    "    for plate in plate_numbers:\n",
    "        parts = plate.split()\n",
    "        if len(parts)<2 or len(parts)>4:\n",
    "            output.append('Invalid Plate')\n",
    "            continue\n",
    "        if not (1<=(len(parts[0])<3) and (parts[0].isalpha()) and parts[0].isupper()):\n",
    "            output.append('Invalid Plate')\n",
    "            continue\n",
    "        if not ((1<=len(parts[1])<=4) and (parts[1].isdigit())):\n",
    "            output.append('Invalid Plate')\n",
    "            continue\n",
    "        if not ((1<=len(parts[-1])<=2) and (parts[-1].isalpha()) and parts[-1].isupper()):\n",
    "            output.append('Invalid Plate')\n",
    "            continue\n",
    "        last_digit = int(parts[1][-1])\n",
    "        output.append('Even' if last_digit % 2 == 0 else 'Odd')\n",
    "        \n",
    "    return output\n",
    "    \n",
    "plate_numbers = ['B 1230 XY', 'DKS 1234 S', 'D 123', 'BA 4567 T']\n",
    "# plate_numbers = ['D 5678 AB', 'FG 3456 GH', 'H 7890 J', 'B 1234 ZY']\n",
    "result = plate_extract(plate_numbers)\n",
    "print(result)"
   ]
  }
 ],
 "metadata": {
  "kernelspec": {
   "display_name": "Python 3",
   "language": "python",
   "name": "python3"
  },
  "language_info": {
   "codemirror_mode": {
    "name": "ipython",
    "version": 3
   },
   "file_extension": ".py",
   "mimetype": "text/x-python",
   "name": "python",
   "nbconvert_exporter": "python",
   "pygments_lexer": "ipython3",
   "version": "3.12.2"
  }
 },
 "nbformat": 4,
 "nbformat_minor": 2
}
